{
 "cells": [
  {
   "cell_type": "code",
   "execution_count": 2,
   "metadata": {},
   "outputs": [],
   "source": [
    "from gurobipy import *"
   ]
  },
  {
   "cell_type": "code",
   "execution_count": 3,
   "metadata": {},
   "outputs": [
    {
     "name": "stdout",
     "output_type": "stream",
     "text": [
      "Academic license - for non-commercial use only\n"
     ]
    }
   ],
   "source": [
    "mod = Model('MarrCorp')"
   ]
  },
  {
   "cell_type": "code",
   "execution_count": 8,
   "metadata": {},
   "outputs": [],
   "source": [
    "# Create Variables\n",
    "p1 = mod.addVar(vtype=GRB.BINARY, name='proj1')\n",
    "p2 = mod.addVar(vtype=GRB.BINARY, name='proj2')\n",
    "p3 = mod.addVar(vtype=GRB.BINARY, name='proj3')\n",
    "p4 = mod.addVar(vtype=GRB.BINARY, name='proj4')\n",
    "p5 = mod.addVar(vtype=GRB.BINARY, name='proj5')"
   ]
  },
  {
   "cell_type": "code",
   "execution_count": 9,
   "metadata": {},
   "outputs": [],
   "source": [
    "mod.setObjective(10*p1 + 17*p2 + 16*p3 + 8*p4 + 14*p5, GRB.MAXIMIZE)"
   ]
  },
  {
   "cell_type": "code",
   "execution_count": 10,
   "metadata": {},
   "outputs": [
    {
     "data": {
      "text/plain": [
       "<gurobi.Constr *Awaiting Model Update*>"
      ]
     },
     "execution_count": 10,
     "metadata": {},
     "output_type": "execute_result"
    }
   ],
   "source": [
    "mod.addConstr(48*p1 + 96*p2 + 80*p3 + 32*p4 + 65*p5 <= 160, 'exp')"
   ]
  },
  {
   "cell_type": "code",
   "execution_count": 11,
   "metadata": {},
   "outputs": [
    {
     "name": "stdout",
     "output_type": "stream",
     "text": [
      "Optimize a model with 2 rows, 10 columns and 10 nonzeros\n",
      "Variable types: 0 continuous, 10 integer (5 binary)\n",
      "Coefficient statistics:\n",
      "  Matrix range     [3e+01, 1e+02]\n",
      "  Objective range  [8e+00, 2e+01]\n",
      "  Bounds range     [1e+00, 1e+00]\n",
      "  RHS range        [2e+02, 2e+02]\n",
      "\n",
      "MIP start produced solution with objective 34 (0.01s)\n",
      "Loaded MIP start with objective 34\n",
      "\n",
      "Presolve removed 1 rows and 5 columns\n",
      "Presolve time: 0.00s\n",
      "Presolved: 1 rows, 5 columns, 5 nonzeros\n",
      "Variable types: 0 continuous, 5 integer (5 binary)\n",
      "\n",
      "Root relaxation: objective 3.500000e+01, 1 iterations, 0.00 seconds\n",
      "\n",
      "    Nodes    |    Current Node    |     Objective Bounds      |     Work\n",
      " Expl Unexpl |  Obj  Depth IntInf | Incumbent    BestBd   Gap | It/Node Time\n",
      "\n",
      "     0     0 infeasible    0        34.00000   34.00000  0.00%     -    0s\n",
      "\n",
      "Explored 0 nodes (1 simplex iterations) in 0.03 seconds\n",
      "Thread count was 8 (of 8 available processors)\n",
      "\n",
      "Solution count 1: 34 \n",
      "\n",
      "Optimal solution found (tolerance 1.00e-04)\n",
      "Best objective 3.400000000000e+01, best bound 3.400000000000e+01, gap 0.0000%\n"
     ]
    }
   ],
   "source": [
    "mod.optimize()"
   ]
  },
  {
   "cell_type": "code",
   "execution_count": 33,
   "metadata": {},
   "outputs": [],
   "source": [
    "mod2 = Model('MarrCorp2')"
   ]
  },
  {
   "cell_type": "code",
   "execution_count": 34,
   "metadata": {},
   "outputs": [],
   "source": [
    "# Create Variables\n",
    "p1 = mod2.addVar(vtype=GRB.BINARY, name='proj1')\n",
    "p2 = mod2.addVar(vtype=GRB.BINARY, name='proj2')\n",
    "p3 = mod2.addVar(vtype=GRB.BINARY, name='proj3')\n",
    "p4 = mod2.addVar(vtype=GRB.BINARY, name='proj4')\n",
    "p5 = mod2.addVar(vtype=GRB.BINARY, name='proj5')"
   ]
  },
  {
   "cell_type": "code",
   "execution_count": 35,
   "metadata": {},
   "outputs": [],
   "source": [
    "mod2.setObjective(10*p1 + 17*p2 + 16*p3 + 8*p4 + 14*p5, GRB.MAXIMIZE)"
   ]
  },
  {
   "cell_type": "code",
   "execution_count": 36,
   "metadata": {},
   "outputs": [
    {
     "data": {
      "text/plain": [
       "<gurobi.Constr *Awaiting Model Update*>"
      ]
     },
     "execution_count": 36,
     "metadata": {},
     "output_type": "execute_result"
    }
   ],
   "source": [
    "mod2.addConstr(48*p1 + 96*p2 + 80*p3 + 32*p4 + 65*p5 <= 160, 'exp')\n",
    "mod2.addConstr(p2 + p5 >= 1, 'intnat')\n",
    "mod2.addConstr(p1 + p2 + p3 + p4 + p5 <= 2, 'staff')\n",
    "mod2.addConstr(p4 + p5 <= 1, 'sameres')\n",
    "mod2.addConstr(p3 - p5 >= 0, 'concurrent')"
   ]
  },
  {
   "cell_type": "code",
   "execution_count": 37,
   "metadata": {},
   "outputs": [
    {
     "name": "stdout",
     "output_type": "stream",
     "text": [
      "Optimize a model with 5 rows, 5 columns and 16 nonzeros\n",
      "Variable types: 0 continuous, 5 integer (5 binary)\n",
      "Coefficient statistics:\n",
      "  Matrix range     [1e+00, 1e+02]\n",
      "  Objective range  [8e+00, 2e+01]\n",
      "  Bounds range     [1e+00, 1e+00]\n",
      "  RHS range        [1e+00, 2e+02]\n",
      "Found heuristic solution: objective 27.0000000\n",
      "Presolve removed 5 rows and 5 columns\n",
      "Presolve time: 0.00s\n",
      "Presolve: All rows and columns removed\n",
      "\n",
      "Explored 0 nodes (0 simplex iterations) in 0.01 seconds\n",
      "Thread count was 1 (of 8 available processors)\n",
      "\n",
      "Solution count 2: 30 27 \n",
      "\n",
      "Optimal solution found (tolerance 1.00e-04)\n",
      "Best objective 3.000000000000e+01, best bound 3.000000000000e+01, gap 0.0000%\n"
     ]
    }
   ],
   "source": [
    "mod2.optimize()"
   ]
  },
  {
   "cell_type": "code",
   "execution_count": 38,
   "metadata": {},
   "outputs": [
    {
     "name": "stdout",
     "output_type": "stream",
     "text": [
      "proj1 0\n",
      "proj2 0\n",
      "proj3 1\n",
      "proj4 0\n",
      "proj5 1\n",
      "Obj: 30\n"
     ]
    }
   ],
   "source": [
    "for var in mod2.getVars():\n",
    "   print('%s %g' % (var.varName, var.x))\n",
    "\n",
    "print('Obj: %g' % mod2.objVal)"
   ]
  },
  {
   "cell_type": "code",
   "execution_count": 41,
   "metadata": {},
   "outputs": [
    {
     "name": "stdout",
     "output_type": "stream",
     "text": [
      "No parameters matching 'SolCount' found\n"
     ]
    }
   ],
   "source": [
    "mod2.Params.SolCount = 2"
   ]
  },
  {
   "cell_type": "code",
   "execution_count": null,
   "metadata": {},
   "outputs": [],
   "source": []
  }
 ],
 "metadata": {
  "kernelspec": {
   "display_name": "Python 3",
   "language": "python",
   "name": "python3"
  },
  "language_info": {
   "codemirror_mode": {
    "name": "ipython",
    "version": 3
   },
   "file_extension": ".py",
   "mimetype": "text/x-python",
   "name": "python",
   "nbconvert_exporter": "python",
   "pygments_lexer": "ipython3",
   "version": "3.5.5"
  }
 },
 "nbformat": 4,
 "nbformat_minor": 2
}
