{
 "cells": [
  {
   "cell_type": "code",
   "execution_count": 2,
   "metadata": {},
   "outputs": [],
   "source": [
    "from gurobipy import *"
   ]
  },
  {
   "cell_type": "code",
   "execution_count": 18,
   "metadata": {},
   "outputs": [],
   "source": [
    "mod = Model('trailmix')"
   ]
  },
  {
   "cell_type": "code",
   "execution_count": 19,
   "metadata": {},
   "outputs": [],
   "source": [
    "# Create Variables\n",
    "s = mod.addVar(vtype=GRB.CONTINUOUS, name='seeds')\n",
    "r = mod.addVar(vtype=GRB.CONTINUOUS, name='raisins')\n",
    "f = mod.addVar(vtype=GRB.CONTINUOUS, name='flakes')\n",
    "p = mod.addVar(vtype=GRB.CONTINUOUS, name='pecans')\n",
    "w = mod.addVar(vtype=GRB.CONTINUOUS, name='walnuts')"
   ]
  },
  {
   "cell_type": "code",
   "execution_count": 20,
   "metadata": {},
   "outputs": [],
   "source": [
    "# Set Objective\n",
    "mod.setObjective(4*s + 5*r + 3*f + 7*p + 6*w , GRB.MINIMIZE)"
   ]
  },
  {
   "cell_type": "code",
   "execution_count": 21,
   "metadata": {},
   "outputs": [
    {
     "data": {
      "text/plain": [
       "<gurobi.Constr *Awaiting Model Update*>"
      ]
     },
     "execution_count": 21,
     "metadata": {},
     "output_type": "execute_result"
    }
   ],
   "source": [
    "# Add constraints\n",
    "mod.addConstr(10*s + 20*r + 10*f + 30*p + 20*w >= 20, 'vitamins')\n",
    "mod.addConstr(5*s + 7*r + 4*f + 9*p + 2*w >= 10, 'minerals')\n",
    "mod.addConstr(1*s + 4*r + 10*f + 2*p + 1*w >= 15, 'protein')\n",
    "mod.addConstr(500*s + 450*r + 160*f + 300*p + 500*w >= 600, 'calories')"
   ]
  },
  {
   "cell_type": "code",
   "execution_count": 22,
   "metadata": {},
   "outputs": [
    {
     "name": "stdout",
     "output_type": "stream",
     "text": [
      "Optimize a model with 4 rows, 5 columns and 20 nonzeros\n",
      "Coefficient statistics:\n",
      "  Matrix range     [1e+00, 5e+02]\n",
      "  Objective range  [3e+00, 7e+00]\n",
      "  Bounds range     [0e+00, 0e+00]\n",
      "  RHS range        [1e+01, 6e+02]\n",
      "Presolve time: 0.00s\n",
      "Presolved: 4 rows, 5 columns, 20 nonzeros\n",
      "\n",
      "Iteration    Objective       Primal Inf.    Dual Inf.      Time\n",
      "       0    0.0000000e+00   9.250000e+01   0.000000e+00      0s\n",
      "       3    7.5357995e+00   0.000000e+00   0.000000e+00      0s\n",
      "\n",
      "Solved in 3 iterations and 0.01 seconds\n",
      "Optimal objective  7.535799523e+00\n"
     ]
    }
   ],
   "source": [
    "mod.optimize()"
   ]
  },
  {
   "cell_type": "code",
   "execution_count": 23,
   "metadata": {},
   "outputs": [
    {
     "name": "stdout",
     "output_type": "stream",
     "text": [
      "seeds 0.477327\n",
      "raisins 0.334129\n",
      "flakes 1.31862\n",
      "pecans 0\n",
      "walnuts 0\n",
      "Obj: 7.5358\n"
     ]
    }
   ],
   "source": [
    "for var in mod.getVars():\n",
    "   print('%s %g' % (var.varName, var.x))\n",
    "\n",
    "print('Obj: %g' % mod.objVal)"
   ]
  },
  {
   "cell_type": "markdown",
   "metadata": {},
   "source": [
    "## Desk Chairs Tables Fabrication Example"
   ]
  },
  {
   "cell_type": "code",
   "execution_count": 25,
   "metadata": {},
   "outputs": [],
   "source": [
    "mod = Model('fabrication')"
   ]
  },
  {
   "cell_type": "code",
   "execution_count": 26,
   "metadata": {},
   "outputs": [],
   "source": [
    "# Create Variables\n",
    "c = mod.addVar(vtype=GRB.INTEGER, name='Chairs')\n",
    "d = mod.addVar(vtype=GRB.INTEGER, name='Desks')\n",
    "t = mod.addVar(vtype=GRB.INTEGER, name='Tables')"
   ]
  },
  {
   "cell_type": "code",
   "execution_count": 29,
   "metadata": {},
   "outputs": [],
   "source": [
    "# Set Objective \n",
    "mod.setObjective(17 * c + 24 * d + 18 * t, GRB.MAXIMIZE)"
   ]
  },
  {
   "cell_type": "code",
   "execution_count": 30,
   "metadata": {},
   "outputs": [
    {
     "data": {
      "text/plain": [
       "<gurobi.Constr *Awaiting Model Update*>"
      ]
     },
     "execution_count": 30,
     "metadata": {},
     "output_type": "execute_result"
    }
   ],
   "source": [
    "# Add constraints\n",
    "mod.addConstr(4 * c + 6 * d + 2 * t <= 1850, 'c0')\n",
    "mod.addConstr(3 * c + 5 * d + 7 * t <= 2400, 'c1')\n",
    "mod.addConstr(3 * c + 2 * d + 4 * t <= 1500, 'c2')\n",
    "mod.addConstr(c <= 360, 'c3')\n",
    "mod.addConstr(d <= 300, 'c4')\n",
    "mod.addConstr(t <= 100, 'c5')"
   ]
  },
  {
   "cell_type": "code",
   "execution_count": 31,
   "metadata": {},
   "outputs": [
    {
     "name": "stdout",
     "output_type": "stream",
     "text": [
      "Optimize a model with 12 rows, 3 columns and 24 nonzeros\n",
      "Variable types: 0 continuous, 3 integer (0 binary)\n",
      "Coefficient statistics:\n",
      "  Matrix range     [1e+00, 7e+00]\n",
      "  Objective range  [2e+01, 2e+01]\n",
      "  Bounds range     [0e+00, 0e+00]\n",
      "  RHS range        [1e+02, 2e+03]\n",
      "Found heuristic solution: objective 7770.0000000\n",
      "Presolve removed 10 rows and 0 columns\n",
      "Presolve time: 0.00s\n",
      "Presolved: 2 rows, 3 columns, 6 nonzeros\n",
      "Variable types: 0 continuous, 3 integer (0 binary)\n",
      "\n",
      "Root relaxation: objective 8.730000e+03, 2 iterations, 0.00 seconds\n",
      "\n",
      "    Nodes    |    Current Node    |     Objective Bounds      |     Work\n",
      " Expl Unexpl |  Obj  Depth IntInf | Incumbent    BestBd   Gap | It/Node Time\n",
      "\n",
      "*    0     0               0    8730.0000000 8730.00000  0.00%     -    0s\n",
      "\n",
      "Explored 0 nodes (2 simplex iterations) in 0.02 seconds\n",
      "Thread count was 8 (of 8 available processors)\n",
      "\n",
      "Solution count 2: 8730 7770 \n",
      "\n",
      "Optimal solution found (tolerance 1.00e-04)\n",
      "Best objective 8.730000000000e+03, best bound 8.730000000000e+03, gap 0.0000%\n"
     ]
    }
   ],
   "source": [
    "mod.optimize()"
   ]
  },
  {
   "cell_type": "code",
   "execution_count": 32,
   "metadata": {},
   "outputs": [
    {
     "name": "stdout",
     "output_type": "stream",
     "text": [
      "Chairs 330\n",
      "Desks 55\n",
      "Tables 100\n",
      "Obj: 8730\n"
     ]
    }
   ],
   "source": [
    "for var in mod.getVars():\n",
    "   print('%s %g' % (var.varName, var.x))\n",
    "\n",
    "print('Obj: %g' % mod.objVal)"
   ]
  },
  {
   "cell_type": "code",
   "execution_count": null,
   "metadata": {},
   "outputs": [],
   "source": []
  },
  {
   "cell_type": "code",
   "execution_count": null,
   "metadata": {},
   "outputs": [],
   "source": []
  },
  {
   "cell_type": "markdown",
   "metadata": {},
   "source": [
    "## Diaz Coffee Company"
   ]
  },
  {
   "cell_type": "code",
   "execution_count": 42,
   "metadata": {},
   "outputs": [],
   "source": [
    "dmod = Model('diaz_coffee')"
   ]
  },
  {
   "cell_type": "code",
   "execution_count": 48,
   "metadata": {},
   "outputs": [],
   "source": [
    "# Create Variables\n",
    "b = mod.addVar(vtype=GRB.CONTINUOUS, name='BRAZILIAN', ub=1500000)\n",
    "c = mod.addVar(vtype=GRB.CONTINUOUS, name='COLOMBIAN', ub=1200000)\n",
    "p = mod.addVar(vtype=GRB.CONTINUOUS, name='PERUVIAN', ub=2000000)"
   ]
  },
  {
   "cell_type": "code",
   "execution_count": 49,
   "metadata": {},
   "outputs": [],
   "source": [
    "# Set Objective \n",
    "mod.setObjective(.5*b + .6*c + .7*p , GRB.MINIMIZE)"
   ]
  },
  {
   "cell_type": "code",
   "execution_count": 52,
   "metadata": {},
   "outputs": [
    {
     "ename": "SyntaxError",
     "evalue": "keyword can't be an expression (<ipython-input-52-709513162c01>, line 2)",
     "output_type": "error",
     "traceback": [
      "\u001b[0;36m  File \u001b[0;32m\"<ipython-input-52-709513162c01>\"\u001b[0;36m, line \u001b[0;32m2\u001b[0m\n\u001b[0;31m    mod.addConstr( b + c + p = 4000000, name = 'POUNDS')\u001b[0m\n\u001b[0m                  ^\u001b[0m\n\u001b[0;31mSyntaxError\u001b[0m\u001b[0;31m:\u001b[0m keyword can't be an expression\n"
     ]
    }
   ],
   "source": [
    "# Add constraints\n",
    "mod.addConstr( b + c + p = 4000000, name = 'POUNDS')\n",
    "mod.addConstr((75*b + 60*c + 85*p)/(b + c + p) >= 78, 'AROMA')\n",
    "mod.addConstr((15*b + 20*c + 18*p)/(b + c + p) >= 16, 'STRENGTH')"
   ]
  },
  {
   "cell_type": "code",
   "execution_count": null,
   "metadata": {},
   "outputs": [],
   "source": []
  }
 ],
 "metadata": {
  "kernelspec": {
   "display_name": "Python 3",
   "language": "python",
   "name": "python3"
  },
  "language_info": {
   "codemirror_mode": {
    "name": "ipython",
    "version": 3
   },
   "file_extension": ".py",
   "mimetype": "text/x-python",
   "name": "python",
   "nbconvert_exporter": "python",
   "pygments_lexer": "ipython3",
   "version": "3.5.5"
  }
 },
 "nbformat": 4,
 "nbformat_minor": 2
}
